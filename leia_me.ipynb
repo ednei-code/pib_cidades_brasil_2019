{
 "cells": [
  {
   "cell_type": "markdown",
   "id": "8a75dcdb",
   "metadata": {},
   "source": [
    "# ***Ednei Cunha Vicente - Cientista de Dados***"
   ]
  },
  {
   "cell_type": "markdown",
   "id": "5ab84ce9",
   "metadata": {},
   "source": [
    "***Projeto sobre o PIB(produto interno bruto) dos municipios brasileiros***"
   ]
  },
  {
   "cell_type": "markdown",
   "id": "26e38a04",
   "metadata": {},
   "source": [
    "Este dataset foi extraido do site IBGE, que contém registros relacionados ao PIB dos municípios brasileiros bem como fatores atrelados como agricultura, servicos, e outros setores que contribuem para o PIB.  "
   ]
  },
  {
   "cell_type": "markdown",
   "id": "1f7c1562",
   "metadata": {},
   "source": [
    "Neste trabalho terei como base encontrar relacionamentos entre o PIB e as demais variáveis.\n"
   ]
  },
  {
   "cell_type": "markdown",
   "id": "4e51dec3",
   "metadata": {},
   "source": [
    "Começarei realizando uma analise exploratória no dataset, criando gráficos fazendo modificaçoes, limpezas e todo trabalho que um cientista de dados executa"
   ]
  },
  {
   "cell_type": "markdown",
   "id": "74f34653",
   "metadata": {},
   "source": [
    "Terei como base a variavel PIB, pois nela encontrarei respostas para minha analise, farei uma serie de perguntas relaciona ao PIB e responderei com graficoes e analise exploratoria"
   ]
  },
  {
   "cell_type": "code",
   "execution_count": null,
   "id": "c8f4a220",
   "metadata": {},
   "outputs": [],
   "source": [
    "E por fim, concluirei com analise de clusterizaçã"
   ]
  }
 ],
 "metadata": {
  "kernelspec": {
   "display_name": "Python 3 (ipykernel)",
   "language": "python",
   "name": "python3"
  },
  "language_info": {
   "codemirror_mode": {
    "name": "ipython",
    "version": 3
   },
   "file_extension": ".py",
   "mimetype": "text/x-python",
   "name": "python",
   "nbconvert_exporter": "python",
   "pygments_lexer": "ipython3",
   "version": "3.7.11"
  }
 },
 "nbformat": 4,
 "nbformat_minor": 5
}
